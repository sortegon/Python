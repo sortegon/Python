{
 "cells": [
  {
   "cell_type": "markdown",
   "metadata": {},
   "source": [
    "# Milestone Project 1: TicTacToe"
   ]
  },
  {
   "cell_type": "markdown",
   "metadata": {},
   "source": [
    "**Step 1: Write a function that can print out a board. Set up your board as a list, where each index 1-9 corresponds with a number on a number pad, so you get a 3 by 3 board representation.**"
   ]
  },
  {
   "cell_type": "code",
   "execution_count": 1,
   "metadata": {},
   "outputs": [],
   "source": [
    "from IPython.display import clear_output\n",
    "\n",
    "def display_board(board):\n",
    "    print(board[1]+\" | \"+board[2]+\" | \"+board[3])\n",
    "    print (\"--+---+--\")\n",
    "    print(board[4]+\" | \"+board[5]+\" | \"+board[6])\n",
    "    print (\"--+---+--\")\n",
    "    print(board[7]+\" | \"+board[8]+\" | \"+board[9])"
   ]
  },
  {
   "cell_type": "markdown",
   "metadata": {},
   "source": [
    "**Step 2: Write a function that can take in a player input and assign their marker as 'X' or 'O'. Think about using *while* loops to continually ask until you get a correct answer.**"
   ]
  },
  {
   "cell_type": "code",
   "execution_count": 2,
   "metadata": {},
   "outputs": [],
   "source": [
    "def player_input():\n",
    "    Assign_Marker = False\n",
    "    while Assign_Marker == False:\n",
    "        Player_Marker = input(\"Player choose your marker (X or O): \").upper()\n",
    "        Assign_Marker = Player_Marker in (\"X\", \"O\") ## go back to make this case insensitive\n",
    "        if Assign_Marker == False:\n",
    "            print(\"Sorry, please select either X or O\")\n",
    "        else:\n",
    "            print(f'Player is now {Player_Marker}')\n",
    "    return Player_Marker"
   ]
  },
  {
   "cell_type": "markdown",
   "metadata": {},
   "source": [
    "**Step 3: Write a function that takes in the board list object, a marker ('X' or 'O'), and a desired position (number 1-9) and assigns it to the board.**"
   ]
  },
  {
   "cell_type": "code",
   "execution_count": 3,
   "metadata": {},
   "outputs": [],
   "source": [
    "def place_marker(board, marker, position):\n",
    "    board[position] = marker"
   ]
  },
  {
   "cell_type": "markdown",
   "metadata": {},
   "source": [
    "**Step 4: Write a function that takes in a board and a mark (X or O) and then checks to see if that mark has won. **"
   ]
  },
  {
   "cell_type": "code",
   "execution_count": 4,
   "metadata": {},
   "outputs": [],
   "source": [
    "def win_check(board, mark):\n",
    "    if mark == board[1] == board[2] == board[3] or mark == board[4] == board[5] == board[6] or mark == board[7] == board[8] == board[9]:\n",
    "        return True\n",
    "    elif mark == board[1] == board[4] == board[7] or mark == board[2] == board[5] == board[8] or mark == board[3] == board[6] == board[9]:\n",
    "        return True\n",
    "    elif mark == board[1] == board[5] == board[9] or mark == board[3] == board[5] == board[7]:\n",
    "        return True    \n",
    "    else:\n",
    "        return False"
   ]
  },
  {
   "cell_type": "markdown",
   "metadata": {},
   "source": [
    "**Step 5: Write a function that uses the random module to randomly decide which player goes first. You may want to lookup random.randint() Return a string of which player went first.**"
   ]
  },
  {
   "cell_type": "code",
   "execution_count": 5,
   "metadata": {},
   "outputs": [],
   "source": [
    "import random\n",
    "\n",
    "def choose_first():\n",
    "    player = random.randint(1,2)\n",
    "    return player"
   ]
  },
  {
   "cell_type": "markdown",
   "metadata": {},
   "source": [
    "**Step 6: Write a function that returns a boolean indicating whether a space on the board is freely available.**"
   ]
  },
  {
   "cell_type": "code",
   "execution_count": 6,
   "metadata": {},
   "outputs": [],
   "source": [
    "def space_check(board, position):\n",
    "    return board[position] not in (\"X\", \"O\") ## or do check for blank space?"
   ]
  },
  {
   "cell_type": "markdown",
   "metadata": {},
   "source": [
    "**Step 7: Write a function that checks if the board is full and returns a boolean value. True if full, False otherwise.**"
   ]
  },
  {
   "cell_type": "code",
   "execution_count": 7,
   "metadata": {},
   "outputs": [],
   "source": [
    "def full_board_check(board):\n",
    "    return ' ' not in board"
   ]
  },
  {
   "cell_type": "markdown",
   "metadata": {},
   "source": [
    "**Step 8: Write a function that asks for a player's next position (as a number 1-9) and then uses the function from step 6 to check if it's a free position. If it is, then return the position for later use.**"
   ]
  },
  {
   "cell_type": "code",
   "execution_count": 8,
   "metadata": {},
   "outputs": [],
   "source": [
    "def player_choice(board):\n",
    "    inRange = False\n",
    "    position = 0\n",
    "    while inRange == False or space_check(board, position) == False:\n",
    "        position = int(input(\"Enter next position (from 1-9): \"))\n",
    "        inRange = position in range(1,10)\n",
    "        if inRange == False:\n",
    "            print(\"Sorry, please enter a digit from 1 to 9\")\n",
    "        if space_check(board, position) == False:\n",
    "            print(\"This space is already assigned, choose another space\")\n",
    "    return position"
   ]
  },
  {
   "cell_type": "markdown",
   "metadata": {},
   "source": [
    "**Step 9: Write a function that asks the player if they want to play again and returns a boolean True if they do want to play again.**"
   ]
  },
  {
   "cell_type": "code",
   "execution_count": 9,
   "metadata": {},
   "outputs": [],
   "source": [
    "def replay():\n",
    "    acceptablevalue = False\n",
    "    while acceptablevalue == False:\n",
    "        continuevariable = input(\"Do you want to play again? (Y/N)\").upper()\n",
    "        if continuevariable not in (\"Y\", \"N\"):\n",
    "            print(\"Sorry, unacceptable value. Please enter Y for Yes or N for No\")\n",
    "        else:\n",
    "            acceptablevalue = True\n",
    "    return continuevariable == \"Y\"  "
   ]
  },
  {
   "cell_type": "markdown",
   "metadata": {
    "collapsed": true
   },
   "source": [
    "**Step 10: Here comes the hard part! Use while loops and the functions you've made to run the game!**"
   ]
  },
  {
   "cell_type": "code",
   "execution_count": 11,
   "metadata": {
    "scrolled": false
   },
   "outputs": [
    {
     "name": "stdout",
     "output_type": "stream",
     "text": [
      "Do you want to play again? (Y/N)Y\n",
      "Welcome to Tic Tac Toe!\n",
      "Player 1 is first!\n",
      "Player choose your marker (X or O): O\n",
      "Player is now O\n",
      "Enter next position (from 1-9): 2\n",
      "  | O |  \n",
      "--+---+--\n",
      "  |   |  \n",
      "--+---+--\n",
      "  |   |  \n",
      "Enter next position (from 1-9): 3\n",
      "  | O | X\n",
      "--+---+--\n",
      "  |   |  \n",
      "--+---+--\n",
      "  |   |  \n",
      "Enter next position (from 1-9): 4\n",
      "  | O | X\n",
      "--+---+--\n",
      "O |   |  \n",
      "--+---+--\n",
      "  |   |  \n",
      "Enter next position (from 1-9): 5\n",
      "  | O | X\n",
      "--+---+--\n",
      "O | X |  \n",
      "--+---+--\n",
      "  |   |  \n",
      "Enter next position (from 1-9): 7\n",
      "  | O | X\n",
      "--+---+--\n",
      "O | X |  \n",
      "--+---+--\n",
      "O |   |  \n",
      "Enter next position (from 1-9): 9\n",
      "  | O | X\n",
      "--+---+--\n",
      "O | X |  \n",
      "--+---+--\n",
      "O |   | X\n",
      "Enter next position (from 1-9): 8\n",
      "  | O | X\n",
      "--+---+--\n",
      "O | X |  \n",
      "--+---+--\n",
      "O | O | X\n",
      "Enter next position (from 1-9): 1\n",
      "X | O | X\n",
      "--+---+--\n",
      "O | X |  \n",
      "--+---+--\n",
      "O | O | X\n",
      "Player 2 wins\n",
      "Do you want to play again? (Y/N)N\n"
     ]
    }
   ],
   "source": [
    "while replay():\n",
    "    \n",
    "    print('Welcome to Tic Tac Toe!')\n",
    "    board = ['#',' ',' ',' ',' ',' ',' ',' ',' ',' ']\n",
    "\n",
    "    # Choose who goes first and choose marker\n",
    "    player = choose_first() \n",
    "    print(f'Player {player} is first!')\n",
    "\n",
    "    # assign player markers\n",
    "    player_1_marker = player_input()\n",
    "    if player_1_marker == 'X':\n",
    "        player_2_marker = 'O'\n",
    "    else:\n",
    "        player_2_marker = 'X'\n",
    "\n",
    "    #players take turns choosing position\n",
    "    while full_board_check(board) == False:\n",
    "        #player 1 turn, check space, mark, and show board\n",
    "        position = player_choice(board)\n",
    "        place_marker(board, player_1_marker, position)\n",
    "        display_board(board) \n",
    "        #check if win\n",
    "        if win_check(board, player_1_marker):\n",
    "            print(\"Player 1 wins\")\n",
    "            break\n",
    "        elif full_board_check(board):\n",
    "            print(\"This game is a draw\")\n",
    "            break\n",
    "        #player 2 turn, check space, mark, and show board\n",
    "        position = player_choice(board)\n",
    "        place_marker(board, player_2_marker, position)\n",
    "        display_board(board)\n",
    "        #check if win\n",
    "        if win_check(board, player_2_marker):\n",
    "            print(\"Player 2 wins\")\n",
    "            break\n",
    "        elif full_board_check(board):\n",
    "            print(\"This game is a draw\")\n",
    "            break\n",
    "            \n",
    "#Start again?        \n",
    "    if not replay():\n",
    "        print(\"Thanks for playing!\")\n",
    "        break"
   ]
  },
  {
   "cell_type": "markdown",
   "metadata": {
    "collapsed": true
   },
   "source": [
    "## Good Job!"
   ]
  }
 ],
 "metadata": {
  "kernelspec": {
   "display_name": "Python 3",
   "language": "python",
   "name": "python3"
  },
  "language_info": {
   "codemirror_mode": {
    "name": "ipython",
    "version": 3
   },
   "file_extension": ".py",
   "mimetype": "text/x-python",
   "name": "python",
   "nbconvert_exporter": "python",
   "pygments_lexer": "ipython3",
   "version": "3.8.5"
  }
 },
 "nbformat": 4,
 "nbformat_minor": 1
}
