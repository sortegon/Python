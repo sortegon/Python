{
 "cells": [
  {
   "cell_type": "markdown",
   "metadata": {},
   "source": [
    "# Milestone Project 1: TicTacToe"
   ]
  },
  {
   "cell_type": "code",
   "execution_count": 1,
   "metadata": {},
   "outputs": [],
   "source": [
    "#function that can print out a board\n",
    "#board is a list, where each index 1-9 corresponds with a number on a number pad, producing a 3 by 3 board representation\n",
    "from IPython.display import clear_output\n",
    "\n",
    "def display_board(board):\n",
    "    print(board[1]+\" | \"+board[2]+\" | \"+board[3])\n",
    "    print (\"--+---+--\")\n",
    "    print(board[4]+\" | \"+board[5]+\" | \"+board[6])\n",
    "    print (\"--+---+--\")\n",
    "    print(board[7]+\" | \"+board[8]+\" | \"+board[9])"
   ]
  },
  {
   "cell_type": "code",
   "execution_count": 2,
   "metadata": {},
   "outputs": [],
   "source": [
    "def assign_players():\n",
    "    Player_A_Name = input(\"Enter player name: \")\n",
    "    Player_B_Name = input(\"Enter other player name: \")\n",
    "    return [Player_A_Name, Player_B_Name]"
   ]
  },
  {
   "cell_type": "code",
   "execution_count": 3,
   "metadata": {},
   "outputs": [],
   "source": [
    "#function that uses the random module to randomly decide which player goes first\n",
    "import random\n",
    "\n",
    "def choose_first():\n",
    "    player = random.randint(1,2)\n",
    "    playerIndex = player - 1\n",
    "    playerlist = assign_players()\n",
    "    first_player = playerlist[playerIndex]\n",
    "    if playerIndex == 0:\n",
    "        second_player = playerlist[1]\n",
    "    else:\n",
    "        second_player = playerlist[0]\n",
    "    return [first_player, second_player]"
   ]
  },
  {
   "cell_type": "code",
   "execution_count": 4,
   "metadata": {},
   "outputs": [],
   "source": [
    "# function that can take in a player input and assign their marker as 'X' or 'O'\n",
    "def player_input():\n",
    "    \n",
    "    player_list = choose_first()\n",
    "    first_player = player_list[0]\n",
    "    second_player = player_list[1]\n",
    "    \n",
    "    print(f'{first_player} is first!')    \n",
    "    \n",
    "    Assign_Marker = False\n",
    "    while Assign_Marker == False:\n",
    "        first_player_Marker = input(f\"{first_player} choose your marker (X or O): \").upper()\n",
    "        \n",
    "        if first_player_Marker == \"X\":\n",
    "            second_player_Marker = \"O\"\n",
    "        else:\n",
    "            second_player_Marker = \"X\"\n",
    "        \n",
    "        Assign_Marker = first_player_Marker in (\"X\", \"O\")\n",
    "        if Assign_Marker == False:\n",
    "            print(\"Sorry, please select either X or O\")\n",
    "        else:\n",
    "            print(f'{first_player} is now {first_player_Marker} and {second_player} is now {second_player_Marker}')\n",
    "    return [first_player, second_player, first_player_Marker, second_player_Marker] #Change this to use a dictionary"
   ]
  },
  {
   "cell_type": "code",
   "execution_count": 5,
   "metadata": {},
   "outputs": [],
   "source": [
    "#function that takes in the board list object, a marker ('X' or 'O'), and a desired position (number 1-9) and assigns it to the board.\n",
    "def place_marker(board, marker, position):\n",
    "    board[position] = marker"
   ]
  },
  {
   "cell_type": "code",
   "execution_count": 6,
   "metadata": {},
   "outputs": [],
   "source": [
    "#function that takes in a board and a mark (X or O) and then checks to see if that mark has won\n",
    "def win_check(board, mark):\n",
    "    if mark == board[1] == board[2] == board[3] or mark == board[4] == board[5] == board[6] or mark == board[7] == board[8] == board[9]:\n",
    "        return True\n",
    "    elif mark == board[1] == board[4] == board[7] or mark == board[2] == board[5] == board[8] or mark == board[3] == board[6] == board[9]:\n",
    "        return True\n",
    "    elif mark == board[1] == board[5] == board[9] or mark == board[3] == board[5] == board[7]:\n",
    "        return True    \n",
    "    else:\n",
    "        return False"
   ]
  },
  {
   "cell_type": "code",
   "execution_count": 7,
   "metadata": {},
   "outputs": [],
   "source": [
    "#function that returns a boolean indicating whether a space on the board is freely available\n",
    "def space_check(board, position):\n",
    "    return board[position] not in (\"X\", \"O\") ## or do check for blank space?"
   ]
  },
  {
   "cell_type": "code",
   "execution_count": 8,
   "metadata": {},
   "outputs": [],
   "source": [
    "#function that checks if the board is full and returns a boolean value. True if full, False otherwise\n",
    "def full_board_check(board):\n",
    "    return ' ' not in board"
   ]
  },
  {
   "cell_type": "code",
   "execution_count": 9,
   "metadata": {},
   "outputs": [],
   "source": [
    "#function that asks for a player's next position (as a number 1-9) \n",
    "#uses the space_check function to check if it's a free position\n",
    "#If it is, then return the position for later use\n",
    "def player_choice(board):\n",
    "    inRange = False\n",
    "    position = 0\n",
    "    while inRange == False or space_check(board, position) == False:\n",
    "        position = int(input(\"Enter next position (from 1-9): \"))\n",
    "        inRange = position in range(1,10)\n",
    "        if inRange == False:\n",
    "            print(\"Sorry, please enter a digit from 1 to 9\")\n",
    "        if space_check(board, position) == False:\n",
    "            print(\"This space is already assigned, choose another space\")\n",
    "    return position"
   ]
  },
  {
   "cell_type": "code",
   "execution_count": 10,
   "metadata": {},
   "outputs": [],
   "source": [
    "#function that asks the player if they want to play again and returns a boolean True if they do want to play again\n",
    "def replay():\n",
    "    acceptablevalue = False\n",
    "    while acceptablevalue == False:\n",
    "        continuevariable = input(\"Do you want to play again? (Y/N)\").upper()\n",
    "        if continuevariable not in (\"Y\", \"N\"):\n",
    "            print(\"Sorry, unacceptable value. Please enter Y for Yes or N for No\")\n",
    "        else:\n",
    "            acceptablevalue = True\n",
    "    return continuevariable == \"Y\"  "
   ]
  },
  {
   "cell_type": "code",
   "execution_count": 14,
   "metadata": {
    "scrolled": false
   },
   "outputs": [
    {
     "name": "stdout",
     "output_type": "stream",
     "text": [
      "Welcome to Tic Tac Toe!\n",
      "Enter player name: shawna\n",
      "Enter other player name: steve\n",
      "steve is first!\n",
      "steve choose your marker (X or O): x\n",
      "steve is now X and shawna is now O\n",
      "Lets play Tic Tac Toe!\n",
      "Enter next position (from 1-9): 8\n",
      "  |   |  \n",
      "--+---+--\n",
      "  |   |  \n",
      "--+---+--\n",
      "  | X |  \n",
      "Enter next position (from 1-9): 1\n",
      "O |   |  \n",
      "--+---+--\n",
      "  |   |  \n",
      "--+---+--\n",
      "  | X |  \n",
      "Enter next position (from 1-9): 5\n",
      "O |   |  \n",
      "--+---+--\n",
      "  | X |  \n",
      "--+---+--\n",
      "  | X |  \n",
      "Enter next position (from 1-9): 4\n",
      "O |   |  \n",
      "--+---+--\n",
      "O | X |  \n",
      "--+---+--\n",
      "  | X |  \n",
      "Enter next position (from 1-9): 2\n",
      "O | X |  \n",
      "--+---+--\n",
      "O | X |  \n",
      "--+---+--\n",
      "  | X |  \n",
      "steve wins\n",
      "Do you want to play again? (Y/N)Y\n",
      "Lets play Tic Tac Toe!\n",
      "Enter next position (from 1-9): 9\n",
      "  |   |  \n",
      "--+---+--\n",
      "  |   |  \n",
      "--+---+--\n",
      "  |   | X\n",
      "Enter next position (from 1-9): 1\n",
      "O |   |  \n",
      "--+---+--\n",
      "  |   |  \n",
      "--+---+--\n",
      "  |   | X\n",
      "Enter next position (from 1-9): 6\n",
      "O |   |  \n",
      "--+---+--\n",
      "  |   | X\n",
      "--+---+--\n",
      "  |   | X\n",
      "Enter next position (from 1-9): 2\n",
      "O | O |  \n",
      "--+---+--\n",
      "  |   | X\n",
      "--+---+--\n",
      "  |   | X\n",
      "Enter next position (from 1-9): 3\n",
      "O | O | X\n",
      "--+---+--\n",
      "  |   | X\n",
      "--+---+--\n",
      "  |   | X\n",
      "steve wins\n",
      "Do you want to play again? (Y/N)N\n",
      "Thanks for playing!\n"
     ]
    }
   ],
   "source": [
    "#main game logic\n",
    "    \n",
    "print('Welcome to Tic Tac Toe!')\n",
    "\n",
    "# assign player markers\n",
    "player_details = player_input()\n",
    "first_player = player_details[0]\n",
    "second_player = player_details[1]\n",
    "Player_1_Marker = player_details[2]\n",
    "Player_2_Marker = player_details[3]\n",
    "\n",
    "beginvariable = True\n",
    "while beginvariable:\n",
    "    \n",
    "    print('Let''s play Tic Tac Toe!')\n",
    "    board = ['#',' ',' ',' ',' ',' ',' ',' ',' ',' ']\n",
    "\n",
    "    #players take turns choosing position\n",
    "    while full_board_check(board) == False:\n",
    "        #player 1 turn, check space, mark, and show board\n",
    "        position = player_choice(board)\n",
    "        place_marker(board, Player_1_Marker, position)\n",
    "        display_board(board) \n",
    "        #check if win\n",
    "        if win_check(board, Player_1_Marker):\n",
    "            print(f\"{first_player} wins\")\n",
    "            break\n",
    "        elif full_board_check(board):\n",
    "            print(\"This game is a draw\")\n",
    "            break\n",
    "        #player 2 turn, check space, mark, and show board\n",
    "        position = player_choice(board)\n",
    "        place_marker(board, Player_2_Marker, position)\n",
    "        display_board(board)\n",
    "        #check if win\n",
    "        if win_check(board, Player_2_Marker):\n",
    "            print(f\"{second_player} wins\")\n",
    "            break\n",
    "        elif full_board_check(board):\n",
    "            print(\"This game is a draw\")\n",
    "            break     \n",
    "#Start again?        \n",
    "    beginvariable = replay()   \n",
    "    \n",
    "print(\"Thanks for playing!\")"
   ]
  },
  {
   "cell_type": "markdown",
   "metadata": {
    "collapsed": true
   },
   "source": [
    "## Good Job!"
   ]
  }
 ],
 "metadata": {
  "kernelspec": {
   "display_name": "Python 3",
   "language": "python",
   "name": "python3"
  },
  "language_info": {
   "codemirror_mode": {
    "name": "ipython",
    "version": 3
   },
   "file_extension": ".py",
   "mimetype": "text/x-python",
   "name": "python",
   "nbconvert_exporter": "python",
   "pygments_lexer": "ipython3",
   "version": "3.8.5"
  }
 },
 "nbformat": 4,
 "nbformat_minor": 1
}
